{
 "cells": [
  {
   "cell_type": "markdown",
   "id": "dcd82385-c7d7-42c9-8c3d-57fd4a0eceb6",
   "metadata": {},
   "source": [
    "# Python Foundation For Spatial Analysis: Finding Solar Sites from OpenStreetMap"
   ]
  },
  {
   "cell_type": "markdown",
   "id": "1b5f4329-68ca-4d15-b297-7ed39fcca975",
   "metadata": {},
   "source": [
    "This is a final project by Colby Smith for the completion of the Python Foundation for Spatial Analysis course presented by Ujaval Gandhi of Spatial Thoughts. \n",
    "\n",
    "I explore the OSMnx python library, and I find the total acreage of solar sites in Massachusetts by county.\n",
    "\n",
    "Links consulted to complete this project:\n",
    "- [OSMnx User Reference](https://osmnx.readthedocs.io/en/stable/user-reference.html#)\n",
    "- [OSMnx Examples Gallery](https://github.com/gboeing/osmnx-examples)\n",
    "- [OpenStreetMap Wiki for Solar Generators Tag](https://wiki.openstreetmap.org/wiki/Tag:generator:source%3Dsolar)"
   ]
  },
  {
   "cell_type": "markdown",
   "id": "7ac96316-5dec-4738-be13-e329769f38a9",
   "metadata": {},
   "source": [
    "## Load Libraries"
   ]
  },
  {
   "cell_type": "code",
   "execution_count": 1,
   "id": "f07c4024-c594-4fed-8ee5-693df0a70a3e",
   "metadata": {},
   "outputs": [],
   "source": [
    "import geopandas as gpd\n",
    "import osmnx as ox"
   ]
  },
  {
   "cell_type": "markdown",
   "id": "8a8b45f8-495c-460c-b47c-cd7326f87cba",
   "metadata": {},
   "source": [
    "By default, using the OSMnx tools will generate a cache folder in the local directory. Instead of repeatedly hitting the server with the same query as I was testing this code, the cache saves my responses."
   ]
  },
  {
   "cell_type": "markdown",
   "id": "2a3fd384-8228-4e7c-afa3-680a65278138",
   "metadata": {},
   "source": [
    "## Using OSM to Find Solar Sites by Location"
   ]
  },
  {
   "cell_type": "markdown",
   "id": "6fdea150-cf77-43ff-9131-d3af088f2f1c",
   "metadata": {},
   "source": [
    "North Brookfield is a town I have developed solar projects in before, so I am familiar with their shape and location. I can query OSM for photovoltaic power plants using tags and display their polygons on a map."
   ]
  },
  {
   "cell_type": "code",
   "execution_count": 2,
   "id": "b77bbddb-bf67-4cae-8f86-2245fcff143e",
   "metadata": {},
   "outputs": [
    {
     "data": {
      "text/html": [
       "<div style=\"width:100%;\"><div style=\"position:relative;width:100%;height:0;padding-bottom:60%;\"><span style=\"color:#565656\">Make this Notebook Trusted to load map: File -> Trust Notebook</span><iframe srcdoc=\"&lt;!DOCTYPE html&gt;\n",
       "&lt;html&gt;\n",
       "&lt;head&gt;\n",
       "    \n",
       "    &lt;meta http-equiv=&quot;content-type&quot; content=&quot;text/html; charset=UTF-8&quot; /&gt;\n",
       "    \n",
       "        &lt;script&gt;\n",
       "            L_NO_TOUCH = false;\n",
       "            L_DISABLE_3D = false;\n",
       "        &lt;/script&gt;\n",
       "    \n",
       "    &lt;style&gt;html, body {width: 100%;height: 100%;margin: 0;padding: 0;}&lt;/style&gt;\n",
       "    &lt;style&gt;#map {position:absolute;top:0;bottom:0;right:0;left:0;}&lt;/style&gt;\n",
       "    &lt;script src=&quot;https://cdn.jsdelivr.net/npm/leaflet@1.9.3/dist/leaflet.js&quot;&gt;&lt;/script&gt;\n",
       "    &lt;script src=&quot;https://code.jquery.com/jquery-3.7.1.min.js&quot;&gt;&lt;/script&gt;\n",
       "    &lt;script src=&quot;https://cdn.jsdelivr.net/npm/bootstrap@5.2.2/dist/js/bootstrap.bundle.min.js&quot;&gt;&lt;/script&gt;\n",
       "    &lt;script src=&quot;https://cdnjs.cloudflare.com/ajax/libs/Leaflet.awesome-markers/2.0.2/leaflet.awesome-markers.js&quot;&gt;&lt;/script&gt;\n",
       "    &lt;link rel=&quot;stylesheet&quot; href=&quot;https://cdn.jsdelivr.net/npm/leaflet@1.9.3/dist/leaflet.css&quot;/&gt;\n",
       "    &lt;link rel=&quot;stylesheet&quot; href=&quot;https://cdn.jsdelivr.net/npm/bootstrap@5.2.2/dist/css/bootstrap.min.css&quot;/&gt;\n",
       "    &lt;link rel=&quot;stylesheet&quot; href=&quot;https://netdna.bootstrapcdn.com/bootstrap/3.0.0/css/bootstrap-glyphicons.css&quot;/&gt;\n",
       "    &lt;link rel=&quot;stylesheet&quot; href=&quot;https://cdn.jsdelivr.net/npm/@fortawesome/fontawesome-free@6.2.0/css/all.min.css&quot;/&gt;\n",
       "    &lt;link rel=&quot;stylesheet&quot; href=&quot;https://cdnjs.cloudflare.com/ajax/libs/Leaflet.awesome-markers/2.0.2/leaflet.awesome-markers.css&quot;/&gt;\n",
       "    &lt;link rel=&quot;stylesheet&quot; href=&quot;https://cdn.jsdelivr.net/gh/python-visualization/folium/folium/templates/leaflet.awesome.rotate.min.css&quot;/&gt;\n",
       "    \n",
       "            &lt;meta name=&quot;viewport&quot; content=&quot;width=device-width,\n",
       "                initial-scale=1.0, maximum-scale=1.0, user-scalable=no&quot; /&gt;\n",
       "            &lt;style&gt;\n",
       "                #map_1ee1ebffee73ed415e5ac1d41a664035 {\n",
       "                    position: relative;\n",
       "                    width: 100.0%;\n",
       "                    height: 100.0%;\n",
       "                    left: 0.0%;\n",
       "                    top: 0.0%;\n",
       "                }\n",
       "                .leaflet-container { font-size: 1rem; }\n",
       "            &lt;/style&gt;\n",
       "        \n",
       "    \n",
       "                    &lt;style&gt;\n",
       "                        .foliumtooltip {\n",
       "                            \n",
       "                        }\n",
       "                       .foliumtooltip table{\n",
       "                            margin: auto;\n",
       "                        }\n",
       "                        .foliumtooltip tr{\n",
       "                            text-align: left;\n",
       "                        }\n",
       "                        .foliumtooltip th{\n",
       "                            padding: 2px; padding-right: 8px;\n",
       "                        }\n",
       "                    &lt;/style&gt;\n",
       "            \n",
       "&lt;/head&gt;\n",
       "&lt;body&gt;\n",
       "    \n",
       "    \n",
       "            &lt;div class=&quot;folium-map&quot; id=&quot;map_1ee1ebffee73ed415e5ac1d41a664035&quot; &gt;&lt;/div&gt;\n",
       "        \n",
       "&lt;/body&gt;\n",
       "&lt;script&gt;\n",
       "    \n",
       "    \n",
       "            var map_1ee1ebffee73ed415e5ac1d41a664035 = L.map(\n",
       "                &quot;map_1ee1ebffee73ed415e5ac1d41a664035&quot;,\n",
       "                {\n",
       "                    center: [42.269164599999996, -72.06662515],\n",
       "                    crs: L.CRS.EPSG3857,\n",
       "                    ...{\n",
       "  &quot;zoom&quot;: 10,\n",
       "  &quot;zoomControl&quot;: true,\n",
       "  &quot;preferCanvas&quot;: false,\n",
       "}\n",
       "\n",
       "                }\n",
       "            );\n",
       "            L.control.scale().addTo(map_1ee1ebffee73ed415e5ac1d41a664035);\n",
       "\n",
       "            \n",
       "\n",
       "        \n",
       "    \n",
       "            var tile_layer_d94e9cba6b7291b79ea11a0514c80808 = L.tileLayer(\n",
       "                &quot;https://tile.openstreetmap.org/{z}/{x}/{y}.png&quot;,\n",
       "                {\n",
       "  &quot;minZoom&quot;: 0,\n",
       "  &quot;maxZoom&quot;: 19,\n",
       "  &quot;maxNativeZoom&quot;: 19,\n",
       "  &quot;noWrap&quot;: false,\n",
       "  &quot;attribution&quot;: &quot;\\u0026copy; \\u003ca href=\\&quot;https://www.openstreetmap.org/copyright\\&quot;\\u003eOpenStreetMap\\u003c/a\\u003e contributors&quot;,\n",
       "  &quot;subdomains&quot;: &quot;abc&quot;,\n",
       "  &quot;detectRetina&quot;: false,\n",
       "  &quot;tms&quot;: false,\n",
       "  &quot;opacity&quot;: 1,\n",
       "}\n",
       "\n",
       "            );\n",
       "        \n",
       "    \n",
       "            tile_layer_d94e9cba6b7291b79ea11a0514c80808.addTo(map_1ee1ebffee73ed415e5ac1d41a664035);\n",
       "        \n",
       "    \n",
       "            map_1ee1ebffee73ed415e5ac1d41a664035.fitBounds(\n",
       "                [[42.239569, -72.1052966], [42.2987602, -72.0279537]],\n",
       "                {}\n",
       "            );\n",
       "        \n",
       "    \n",
       "        function geo_json_e97dd0d49888193b256145905464f4b2_styler(feature) {\n",
       "            switch(feature.id) {\n",
       "                default:\n",
       "                    return {&quot;fillOpacity&quot;: 0.5, &quot;weight&quot;: 2};\n",
       "            }\n",
       "        }\n",
       "        function geo_json_e97dd0d49888193b256145905464f4b2_highlighter(feature) {\n",
       "            switch(feature.id) {\n",
       "                default:\n",
       "                    return {&quot;fillOpacity&quot;: 0.75};\n",
       "            }\n",
       "        }\n",
       "        function geo_json_e97dd0d49888193b256145905464f4b2_pointToLayer(feature, latlng) {\n",
       "            var opts = {&quot;bubblingMouseEvents&quot;: true, &quot;color&quot;: &quot;#3388ff&quot;, &quot;dashArray&quot;: null, &quot;dashOffset&quot;: null, &quot;fill&quot;: true, &quot;fillColor&quot;: &quot;#3388ff&quot;, &quot;fillOpacity&quot;: 0.2, &quot;fillRule&quot;: &quot;evenodd&quot;, &quot;lineCap&quot;: &quot;round&quot;, &quot;lineJoin&quot;: &quot;round&quot;, &quot;opacity&quot;: 1.0, &quot;radius&quot;: 2, &quot;stroke&quot;: true, &quot;weight&quot;: 3};\n",
       "            \n",
       "            let style = geo_json_e97dd0d49888193b256145905464f4b2_styler(feature)\n",
       "            Object.assign(opts, style)\n",
       "            \n",
       "            return new L.CircleMarker(latlng, opts)\n",
       "        }\n",
       "\n",
       "        function geo_json_e97dd0d49888193b256145905464f4b2_onEachFeature(feature, layer) {\n",
       "            layer.on({\n",
       "                mouseout: function(e) {\n",
       "                    if(typeof e.target.setStyle === &quot;function&quot;){\n",
       "                            geo_json_e97dd0d49888193b256145905464f4b2.resetStyle(e.target);\n",
       "                    }\n",
       "                },\n",
       "                mouseover: function(e) {\n",
       "                    if(typeof e.target.setStyle === &quot;function&quot;){\n",
       "                        const highlightStyle = geo_json_e97dd0d49888193b256145905464f4b2_highlighter(e.target.feature)\n",
       "                        e.target.setStyle(highlightStyle);\n",
       "                    }\n",
       "                },\n",
       "            });\n",
       "        };\n",
       "        var geo_json_e97dd0d49888193b256145905464f4b2 = L.geoJson(null, {\n",
       "                onEachFeature: geo_json_e97dd0d49888193b256145905464f4b2_onEachFeature,\n",
       "            \n",
       "                style: geo_json_e97dd0d49888193b256145905464f4b2_styler,\n",
       "                pointToLayer: geo_json_e97dd0d49888193b256145905464f4b2_pointToLayer,\n",
       "            ...{\n",
       "}\n",
       "        });\n",
       "\n",
       "        function geo_json_e97dd0d49888193b256145905464f4b2_add (data) {\n",
       "            geo_json_e97dd0d49888193b256145905464f4b2\n",
       "                .addData(data);\n",
       "        }\n",
       "            geo_json_e97dd0d49888193b256145905464f4b2_add({&quot;bbox&quot;: [-72.1052966, 42.239569, -72.0279537, 42.2987602], &quot;features&quot;: [{&quot;bbox&quot;: [-72.0668806, 42.2618481, -72.0613003, 42.266494], &quot;geometry&quot;: {&quot;coordinates&quot;: [[[[-72.0643325, 42.263456], [-72.0642614, 42.2632992], [-72.0640737, 42.2632992], [-72.0639972, 42.2632327], [-72.0637035, 42.2632297], [-72.0636955, 42.2631424], [-72.0632583, 42.2631473], [-72.0630303, 42.2626521], [-72.0628908, 42.2620546], [-72.0627205, 42.2620506], [-72.0627151, 42.2618611], [-72.0645686, 42.2618551], [-72.0661993, 42.2618483], [-72.0662369, 42.2618481], [-72.0664099, 42.2626303], [-72.0661336, 42.2629151], [-72.0662583, 42.2634441], [-72.0643325, 42.263456]]], [[[-72.0633549, 42.2661943], [-72.0631, 42.2659997], [-72.0630035, 42.2658102], [-72.0620406, 42.2652901], [-72.0614974, 42.2652981], [-72.06148, 42.2652822], [-72.061476, 42.264258], [-72.0614572, 42.2635563], [-72.0613003, 42.2622377], [-72.0613342, 42.262234], [-72.0613794, 42.2622273], [-72.06137, 42.2621658], [-72.0619628, 42.2621667], [-72.0619856, 42.2623474], [-72.0621479, 42.2624655], [-72.0621814, 42.2627245], [-72.062341, 42.2628397], [-72.0624241, 42.2634153], [-72.0625663, 42.2635195], [-72.0625743, 42.264519], [-72.0637089, 42.2651025], [-72.0647214, 42.2653288], [-72.0651814, 42.2656206], [-72.065856, 42.2656206], [-72.0658936, 42.2654668], [-72.0660532, 42.2654688], [-72.0660518, 42.2653993], [-72.0668806, 42.2653864], [-72.0666714, 42.2661764], [-72.0660894, 42.2661784], [-72.0660827, 42.2662528], [-72.0650299, 42.2662578], [-72.064877, 42.2664106], [-72.064248, 42.2664116], [-72.0642561, 42.266489], [-72.063607, 42.266494], [-72.0633549, 42.2661943]]]], &quot;type&quot;: &quot;MultiPolygon&quot;}, &quot;id&quot;: &quot;(\\u0027relation\\u0027, 14183891)&quot;, &quot;properties&quot;: {&quot;barrier&quot;: null, &quot;description&quot;: null, &quot;name&quot;: &quot;Ryan Road Solar LLC Hybrid(CSG)&quot;, &quot;operator&quot;: &quot;AES Distributed Energy&quot;, &quot;plant:method&quot;: &quot;photovoltaic&quot;, &quot;plant:output:electricity&quot;: &quot;8.6 MW&quot;, &quot;plant:source&quot;: &quot;solar;battery&quot;, &quot;power&quot;: &quot;plant&quot;, &quot;ref:US:EIA&quot;: &quot;63044&quot;, &quot;source&quot;: &quot;U.S. Energy Information Administration - EIA-860 - 2022&quot;, &quot;start_date&quot;: &quot;2021-12&quot;, &quot;type&quot;: &quot;multipolygon&quot;}, &quot;type&quot;: &quot;Feature&quot;}, {&quot;bbox&quot;: [-72.0384184, 42.239569, -72.0279537, 42.2465853], &quot;geometry&quot;: {&quot;coordinates&quot;: [[[[-72.0335421, 42.2410146], [-72.033754, 42.2409263], [-72.0337969, 42.2404686], [-72.033868, 42.2399701], [-72.0343669, 42.239852], [-72.0349328, 42.2398768], [-72.0349489, 42.2399979], [-72.0348859, 42.240132], [-72.034737, 42.2402094], [-72.0346123, 42.2402293], [-72.0344983, 42.240269], [-72.0344487, 42.2403703], [-72.0344339, 42.2405371], [-72.0343427, 42.2406731], [-72.0343333, 42.2408111], [-72.0344085, 42.2408438], [-72.0344929, 42.240821], [-72.0345573, 42.2407356], [-72.034792, 42.2407247], [-72.0350924, 42.2409203], [-72.03513, 42.2411338], [-72.0353539, 42.2412996], [-72.0354894, 42.2413413], [-72.0357348, 42.2413552], [-72.0358153, 42.2414435], [-72.035818, 42.2417811], [-72.035763, 42.2419658], [-72.0356637, 42.2420104], [-72.035417, 42.2419807], [-72.034965, 42.2418548], [-72.0345506, 42.2417394], [-72.0326894, 42.2412102], [-72.0325845, 42.2411804], [-72.0327535, 42.2410494], [-72.0335421, 42.2410146]]], [[[-72.0369083, 42.2424096], [-72.0364724, 42.2422815], [-72.0363718, 42.2422031], [-72.0362645, 42.2420978], [-72.0362592, 42.2419112], [-72.0361197, 42.2417741], [-72.0359279, 42.2411834], [-72.0358408, 42.2411079], [-72.0358086, 42.2407049], [-72.035936, 42.2406324], [-72.0359655, 42.2402829], [-72.0358904, 42.2401886], [-72.0357884, 42.2401191], [-72.0357576, 42.2399642], [-72.0359373, 42.2397845], [-72.0360929, 42.2397259], [-72.0362699, 42.2396921], [-72.0363691, 42.239569], [-72.037544, 42.2396028], [-72.0383191, 42.2396018], [-72.0384184, 42.2396256], [-72.0382547, 42.2401518], [-72.0381247, 42.240403], [-72.037953, 42.2405887], [-72.0378913, 42.2406939], [-72.0378873, 42.2407744], [-72.0379248, 42.2408667], [-72.0380214, 42.2409511], [-72.0381635, 42.2411496], [-72.0384076, 42.2419548], [-72.0383526, 42.2420541], [-72.0382386, 42.2420968], [-72.0380241, 42.2421385], [-72.0378765, 42.2422398], [-72.0377143, 42.2426389], [-72.0369083, 42.2424096]]], [[[-72.0301759, 42.2447655], [-72.0301082, 42.2446583], [-72.0299801, 42.2445669], [-72.0300304, 42.2444423], [-72.0300425, 42.244354], [-72.0299325, 42.244214], [-72.0298225, 42.2439628], [-72.0296676, 42.2436372], [-72.0296757, 42.2435399], [-72.0297528, 42.2432033], [-72.0297448, 42.2430321], [-72.0296388, 42.2429685], [-72.0296482, 42.2429179], [-72.0297367, 42.2428568], [-72.0297575, 42.2428176], [-72.029781, 42.2423723], [-72.0297937, 42.2420258], [-72.0297877, 42.24193], [-72.0297106, 42.2418754], [-72.0292921, 42.2417478], [-72.0292801, 42.2415657], [-72.0293263, 42.2414445], [-72.0295711, 42.2412196], [-72.0298527, 42.2411884], [-72.030196, 42.2411596], [-72.0309638, 42.2410985], [-72.0313896, 42.2412206], [-72.0319368, 42.2413715], [-72.0322754, 42.2414624], [-72.0325349, 42.2415423], [-72.0329386, 42.241654], [-72.0328481, 42.2417801], [-72.0325859, 42.2419807], [-72.0325631, 42.2419643], [-72.0323884, 42.2419613], [-72.0323757, 42.2419735], [-72.0323713, 42.2421589], [-72.0319609, 42.2422899], [-72.0317142, 42.2424845], [-72.0314983, 42.2425093], [-72.0313963, 42.2427044], [-72.0314728, 42.2430445], [-72.0315338, 42.2433135], [-72.0316679, 42.2434709], [-72.0317383, 42.2436714], [-72.031863, 42.2439315], [-72.0319857, 42.2441271], [-72.03203, 42.2442001], [-72.0321004, 42.2443823], [-72.0321869, 42.24456], [-72.0323592, 42.2447114], [-72.0324813, 42.2448494], [-72.032769, 42.2448335], [-72.0329225, 42.2448424], [-72.0329862, 42.2449035], [-72.0329104, 42.2449209], [-72.0323452, 42.2449899], [-72.0320448, 42.2450102], [-72.0316444, 42.2450539], [-72.0311207, 42.2451055], [-72.0306165, 42.2451606], [-72.0302846, 42.2451934], [-72.0301813, 42.245109], [-72.0301759, 42.2447655]]], [[[-72.034218, 42.2436977], [-72.0341114, 42.2436278], [-72.0338807, 42.2434977], [-72.0339008, 42.2433647], [-72.0339733, 42.2432525], [-72.0340692, 42.2432326], [-72.0341483, 42.2430187], [-72.0341315, 42.2428226], [-72.0344178, 42.2427049], [-72.0347503, 42.2427247], [-72.0348597, 42.2427312], [-72.0349992, 42.2428449], [-72.0351226, 42.2430231], [-72.0354183, 42.2431026], [-72.0354143, 42.2434123], [-72.0353385, 42.243526], [-72.0352312, 42.2437613], [-72.0352279, 42.2437662], [-72.0348436, 42.2438551], [-72.0344661, 42.2438933], [-72.034218, 42.2436977]]], [[[-72.0285921, 42.2465853], [-72.0285559, 42.2462974], [-72.0284607, 42.2456987], [-72.0283909, 42.245249], [-72.0283037, 42.2446761], [-72.0282072, 42.2440368], [-72.0280986, 42.2433875], [-72.0280355, 42.2429328], [-72.0280959, 42.2429288], [-72.0280677, 42.2427332], [-72.0279738, 42.2426101], [-72.0279537, 42.2422309], [-72.0279631, 42.2421067], [-72.0280288, 42.2421038], [-72.0281039, 42.2421355], [-72.0281388, 42.2422835], [-72.0282823, 42.242353], [-72.0284687, 42.2424036], [-72.0285492, 42.2424205], [-72.0288348, 42.2423053], [-72.0289287, 42.2422984], [-72.0292184, 42.2425823], [-72.0293753, 42.2426816], [-72.0294705, 42.2426945], [-72.0294625, 42.2428712], [-72.0294571, 42.2429794], [-72.0293753, 42.2430509], [-72.0293579, 42.243314], [-72.0293149, 42.2436704], [-72.0293149, 42.2441003], [-72.0294786, 42.2445828], [-72.0294799, 42.2446474], [-72.0294853, 42.2449234], [-72.0295925, 42.2451507], [-72.0297427, 42.2453919], [-72.0299171, 42.2454436], [-72.0300874, 42.2454565], [-72.0304321, 42.2456183], [-72.0305394, 42.2463758], [-72.0300391, 42.2464264], [-72.0292667, 42.2465138], [-72.0285921, 42.2465853]]]], &quot;type&quot;: &quot;MultiPolygon&quot;}, &quot;id&quot;: &quot;(\\u0027relation\\u0027, 15546824)&quot;, &quot;properties&quot;: {&quot;barrier&quot;: &quot;fence&quot;, &quot;description&quot;: null, &quot;name&quot;: &quot;Old Wardour Solar&quot;, &quot;operator&quot;: null, &quot;plant:method&quot;: &quot;photovoltaic&quot;, &quot;plant:output:electricity&quot;: &quot;yes&quot;, &quot;plant:source&quot;: &quot;solar&quot;, &quot;power&quot;: &quot;plant&quot;, &quot;ref:US:EIA&quot;: &quot;61243&quot;, &quot;source&quot;: null, &quot;start_date&quot;: null, &quot;type&quot;: &quot;multipolygon&quot;}, &quot;type&quot;: &quot;Feature&quot;}, {&quot;bbox&quot;: [-72.0530672, 42.2426598, -72.0474695, 42.2504212], &quot;geometry&quot;: {&quot;coordinates&quot;: [[[[-72.0528111, 42.2427163], [-72.0528875, 42.2426816], [-72.0529814, 42.2426598], [-72.0530297, 42.2426667], [-72.0530538, 42.2427134], [-72.0530592, 42.242771], [-72.0530672, 42.2452569], [-72.0529841, 42.2454307], [-72.0520185, 42.2454247], [-72.051871, 42.2454009], [-72.0517248, 42.2453205], [-72.0514955, 42.2450703], [-72.0514874, 42.2444855], [-72.0516309, 42.244007], [-72.0518388, 42.24373], [-72.0520695, 42.2429953], [-72.052567, 42.2428792], [-72.0526254, 42.2428731], [-72.0526823, 42.2428673], [-72.0528111, 42.2427163]]], [[[-72.0504011, 42.2467709], [-72.0504574, 42.2467719], [-72.0507538, 42.2468325], [-72.0507605, 42.2475423], [-72.0512393, 42.2485271], [-72.0509376, 42.2493054], [-72.0506452, 42.2496012], [-72.0502938, 42.2497243], [-72.0501986, 42.2498752], [-72.0501195, 42.2504063], [-72.0496783, 42.2504033], [-72.0491029, 42.2504212], [-72.0488186, 42.2504142], [-72.0489648, 42.2495019], [-72.049056, 42.2487068], [-72.0491284, 42.2483524], [-72.0490721, 42.2483176], [-72.048879, 42.2480674], [-72.0490547, 42.247309], [-72.0489326, 42.2472504], [-72.0484713, 42.2472266], [-72.0477055, 42.2472266], [-72.0474695, 42.247031], [-72.0475177, 42.2467669], [-72.0481011, 42.2462497], [-72.0484874, 42.2462428], [-72.048706, 42.2463728], [-72.0487931, 42.2463927], [-72.0491458, 42.2464016], [-72.049406, 42.2466121], [-72.0496407, 42.246758], [-72.0497024, 42.2467779], [-72.0504011, 42.2467709]]]], &quot;type&quot;: &quot;MultiPolygon&quot;}, &quot;id&quot;: &quot;(\\u0027relation\\u0027, 17393701)&quot;, &quot;properties&quot;: {&quot;barrier&quot;: null, &quot;description&quot;: null, &quot;name&quot;: &quot;BWC Lake Lashaway, LLC Hybrid&quot;, &quot;operator&quot;: &quot;AES Distributed Energy&quot;, &quot;plant:method&quot;: &quot;photovoltaic&quot;, &quot;plant:output:electricity&quot;: &quot;7.9 MW&quot;, &quot;plant:source&quot;: &quot;solar;battery&quot;, &quot;power&quot;: &quot;plant&quot;, &quot;ref:US:EIA&quot;: &quot;64182&quot;, &quot;source&quot;: &quot;U.S. Energy Information Administration - EIA-860 - 2022&quot;, &quot;start_date&quot;: &quot;2021-05&quot;, &quot;type&quot;: &quot;multipolygon&quot;}, &quot;type&quot;: &quot;Feature&quot;}, {&quot;bbox&quot;: [-72.0535581, 42.2763026, -72.049866, 42.2788041], &quot;geometry&quot;: {&quot;coordinates&quot;: [[[-72.0535581, 42.2785243], [-72.0522766, 42.2785366], [-72.0522103, 42.2785372], [-72.0519421, 42.2785938], [-72.0509, 42.2786989], [-72.049866, 42.2788041], [-72.0501825, 42.2780728], [-72.050436, 42.2774914], [-72.0506586, 42.2769714], [-72.0509483, 42.2763026], [-72.0513292, 42.2763046], [-72.0516329, 42.27632], [-72.0516846, 42.276374], [-72.0517033, 42.2764614], [-72.051753, 42.2767997], [-72.0520051, 42.2767968], [-72.0521513, 42.2768106], [-72.0523068, 42.2768424], [-72.0525415, 42.2769009], [-72.0525657, 42.2767779], [-72.0526059, 42.2766955], [-72.0526904, 42.276635], [-72.0527615, 42.2766162], [-72.0530766, 42.2766043], [-72.053192, 42.2766301], [-72.0533422, 42.2767075], [-72.053377, 42.2770895], [-72.053487, 42.2775946], [-72.0535353, 42.2781165], [-72.0535581, 42.2785243]]], &quot;type&quot;: &quot;Polygon&quot;}, &quot;id&quot;: &quot;(\\u0027way\\u0027, 615576201)&quot;, &quot;properties&quot;: {&quot;barrier&quot;: &quot;fence&quot;, &quot;description&quot;: null, &quot;name&quot;: &quot;North Brookfield&quot;, &quot;operator&quot;: &quot;Mass Solar, LLC&quot;, &quot;plant:method&quot;: &quot;photovoltaic&quot;, &quot;plant:output:electricity&quot;: &quot;3 MW&quot;, &quot;plant:source&quot;: &quot;solar&quot;, &quot;power&quot;: &quot;plant&quot;, &quot;ref:US:EIA&quot;: &quot;58650&quot;, &quot;source&quot;: &quot;U.S. Energy Information Administration - EIA-860 - 2020&quot;, &quot;start_date&quot;: &quot;2014-06&quot;, &quot;type&quot;: null}, &quot;type&quot;: &quot;Feature&quot;}, {&quot;bbox&quot;: [-72.0978722, 42.29804, -72.0956031, 42.2987602], &quot;geometry&quot;: {&quot;coordinates&quot;: [[[-72.0967108, 42.29804], [-72.095654, 42.2980896], [-72.0956031, 42.2981313], [-72.0956057, 42.2983456], [-72.0957077, 42.2984507], [-72.0958579, 42.2984983], [-72.0958257, 42.2985519], [-72.0963514, 42.2987047], [-72.0964667, 42.2986352], [-72.0972472, 42.2987602], [-72.0978722, 42.2987404], [-72.0978695, 42.2982662], [-72.0967108, 42.29804]]], &quot;type&quot;: &quot;Polygon&quot;}, &quot;id&quot;: &quot;(\\u0027way\\u0027, 669256721)&quot;, &quot;properties&quot;: {&quot;barrier&quot;: &quot;fence&quot;, &quot;description&quot;: null, &quot;name&quot;: null, &quot;operator&quot;: null, &quot;plant:method&quot;: &quot;photovoltaic&quot;, &quot;plant:output:electricity&quot;: &quot;yes&quot;, &quot;plant:source&quot;: &quot;solar&quot;, &quot;power&quot;: &quot;plant&quot;, &quot;ref:US:EIA&quot;: null, &quot;source&quot;: null, &quot;start_date&quot;: null, &quot;type&quot;: null}, &quot;type&quot;: &quot;Feature&quot;}, {&quot;bbox&quot;: [-72.0696111, 42.255486, -72.0666581, 42.2585021], &quot;geometry&quot;: {&quot;coordinates&quot;: [[[-72.0687636, 42.2557675], [-72.0690867, 42.2566471], [-72.0696111, 42.2580722], [-72.0687183, 42.2585021], [-72.0678768, 42.2585014], [-72.0676808, 42.2581731], [-72.0675666, 42.2575531], [-72.0672912, 42.2573341], [-72.0669123, 42.2573267], [-72.0666581, 42.2571195], [-72.0666879, 42.2566849], [-72.0669718, 42.256387], [-72.0673099, 42.2561539], [-72.0674314, 42.2559962], [-72.067846, 42.25565], [-72.0681559, 42.255486], [-72.0683736, 42.2554888], [-72.0687636, 42.2557675]]], &quot;type&quot;: &quot;Polygon&quot;}, &quot;id&quot;: &quot;(\\u0027way\\u0027, 697840066)&quot;, &quot;properties&quot;: {&quot;barrier&quot;: &quot;fence&quot;, &quot;description&quot;: &quot;Developed by Solventerra&quot;, &quot;name&quot;: &quot;Brookfield Solar 2013 LLC&quot;, &quot;operator&quot;: &quot;Soltage&quot;, &quot;plant:method&quot;: &quot;photovoltaic&quot;, &quot;plant:output:electricity&quot;: &quot;2 MW&quot;, &quot;plant:source&quot;: &quot;solar&quot;, &quot;power&quot;: &quot;plant&quot;, &quot;ref:US:EIA&quot;: &quot;60613&quot;, &quot;source&quot;: &quot;U.S. Energy Information Administration - EIA-860 - 2020&quot;, &quot;start_date&quot;: &quot;2013-12&quot;, &quot;type&quot;: null}, &quot;type&quot;: &quot;Feature&quot;}, {&quot;bbox&quot;: [-72.1052966, 42.2406572, -72.1037409, 42.2423192], &quot;geometry&quot;: {&quot;coordinates&quot;: [[[-72.1052966, 42.2423152], [-72.1042398, 42.2423192], [-72.1042344, 42.2421445], [-72.1039608, 42.2421623], [-72.1039179, 42.2420333], [-72.1039206, 42.2415468], [-72.1037409, 42.2412787], [-72.103883, 42.2406612], [-72.1042049, 42.2406572], [-72.1047601, 42.2409114], [-72.1047682, 42.2414892], [-72.1050283, 42.2417354], [-72.1051571, 42.2419856], [-72.1052966, 42.2421365], [-72.1052966, 42.2423152]]], &quot;type&quot;: &quot;Polygon&quot;}, &quot;id&quot;: &quot;(\\u0027way\\u0027, 706459263)&quot;, &quot;properties&quot;: {&quot;barrier&quot;: &quot;fence&quot;, &quot;description&quot;: null, &quot;name&quot;: &quot;Ledeaux Solar, LLC CSG&quot;, &quot;operator&quot;: &quot;38 Degrees North, LLC&quot;, &quot;plant:method&quot;: &quot;photovoltaic&quot;, &quot;plant:output:electricity&quot;: &quot;1 MW&quot;, &quot;plant:source&quot;: &quot;solar&quot;, &quot;power&quot;: &quot;plant&quot;, &quot;ref:US:EIA&quot;: &quot;63572&quot;, &quot;source&quot;: &quot;U.S. Energy Information Administration - EIA-860 - 2022&quot;, &quot;start_date&quot;: &quot;2017-11&quot;, &quot;type&quot;: null}, &quot;type&quot;: &quot;Feature&quot;}, {&quot;bbox&quot;: [-72.1020404, 42.2428156, -72.0995566, 42.2444756], &quot;geometry&quot;: {&quot;coordinates&quot;: [[[-72.1019894, 42.2444756], [-72.1013939, 42.2444736], [-72.1013886, 42.2442929], [-72.1005598, 42.2443029], [-72.1005571, 42.2443843], [-72.1001279, 42.2443902], [-72.0997497, 42.2442056], [-72.0995566, 42.2438958], [-72.0999616, 42.2432823], [-72.1002486, 42.2428156], [-72.1007046, 42.2428315], [-72.1008468, 42.2431969], [-72.1008065, 42.2433379], [-72.1008924, 42.2436139], [-72.1009111, 42.2439097], [-72.1010426, 42.2439216], [-72.1011311, 42.244009], [-72.1020404, 42.244005], [-72.1019894, 42.2444756]]], &quot;type&quot;: &quot;Polygon&quot;}, &quot;id&quot;: &quot;(\\u0027way\\u0027, 706459264)&quot;, &quot;properties&quot;: {&quot;barrier&quot;: &quot;fence&quot;, &quot;description&quot;: null, &quot;name&quot;: &quot;JH Solar, LLC CSG&quot;, &quot;operator&quot;: &quot;38 Degrees North, LLC&quot;, &quot;plant:method&quot;: &quot;photovoltaic&quot;, &quot;plant:output:electricity&quot;: &quot;1 MW&quot;, &quot;plant:source&quot;: &quot;solar&quot;, &quot;power&quot;: &quot;plant&quot;, &quot;ref:US:EIA&quot;: &quot;63564&quot;, &quot;source&quot;: &quot;U.S. Energy Information Administration - EIA-860 - 2022&quot;, &quot;start_date&quot;: &quot;2017-11&quot;, &quot;type&quot;: null}, &quot;type&quot;: &quot;Feature&quot;}, {&quot;bbox&quot;: [-72.0737605, 42.2639225, -72.0713371, 42.265445], &quot;geometry&quot;: {&quot;coordinates&quot;: [[[-72.0737524, 42.2649825], [-72.0728204, 42.2649854], [-72.072815, 42.2650529], [-72.0725025, 42.2650559], [-72.0724998, 42.265443], [-72.0715369, 42.265445], [-72.0713371, 42.2652137], [-72.0715034, 42.2648147], [-72.0718789, 42.2639245], [-72.0720989, 42.2639225], [-72.0720989, 42.263986], [-72.0726527, 42.263985], [-72.0726514, 42.2640515], [-72.0729129, 42.2640515], [-72.0729156, 42.2641786], [-72.0731208, 42.2643046], [-72.0736747, 42.2643026], [-72.07368, 42.2644336], [-72.0737605, 42.2644306], [-72.0737524, 42.2649825]]], &quot;type&quot;: &quot;Polygon&quot;}, &quot;id&quot;: &quot;(\\u0027way\\u0027, 1027277742)&quot;, &quot;properties&quot;: {&quot;barrier&quot;: &quot;fence&quot;, &quot;description&quot;: null, &quot;name&quot;: &quot;Lane Ave Solar LLC&quot;, &quot;operator&quot;: &quot;AES Distributed Energy&quot;, &quot;plant:method&quot;: &quot;photovoltaic&quot;, &quot;plant:output:electricity&quot;: &quot;1.5 MW&quot;, &quot;plant:source&quot;: &quot;solar&quot;, &quot;power&quot;: &quot;plant&quot;, &quot;ref:US:EIA&quot;: &quot;63041&quot;, &quot;source&quot;: &quot;U.S. Energy Information Administration - EIA-860 - 2022&quot;, &quot;start_date&quot;: &quot;2021-09&quot;, &quot;type&quot;: null}, &quot;type&quot;: &quot;Feature&quot;}], &quot;type&quot;: &quot;FeatureCollection&quot;});\n",
       "\n",
       "        \n",
       "    \n",
       "    geo_json_e97dd0d49888193b256145905464f4b2.bindTooltip(\n",
       "    function(layer){\n",
       "    let div = L.DomUtil.create(&#x27;div&#x27;);\n",
       "    \n",
       "    let handleObject = feature=&gt;typeof(feature)==&#x27;object&#x27; ? JSON.stringify(feature) : feature;\n",
       "    let fields = [&quot;barrier&quot;, &quot;name&quot;, &quot;operator&quot;, &quot;plant:method&quot;, &quot;plant:output:electricity&quot;, &quot;plant:source&quot;, &quot;power&quot;, &quot;ref:US:EIA&quot;, &quot;source&quot;, &quot;start_date&quot;, &quot;description&quot;, &quot;type&quot;];\n",
       "    let aliases = [&quot;barrier&quot;, &quot;name&quot;, &quot;operator&quot;, &quot;plant:method&quot;, &quot;plant:output:electricity&quot;, &quot;plant:source&quot;, &quot;power&quot;, &quot;ref:US:EIA&quot;, &quot;source&quot;, &quot;start_date&quot;, &quot;description&quot;, &quot;type&quot;];\n",
       "    let table = &#x27;&lt;table&gt;&#x27; +\n",
       "        String(\n",
       "        fields.map(\n",
       "        (v,i)=&gt;\n",
       "        `&lt;tr&gt;\n",
       "            &lt;th&gt;${aliases[i]}&lt;/th&gt;\n",
       "            \n",
       "            &lt;td&gt;${handleObject(layer.feature.properties[v])}&lt;/td&gt;\n",
       "        &lt;/tr&gt;`).join(&#x27;&#x27;))\n",
       "    +&#x27;&lt;/table&gt;&#x27;;\n",
       "    div.innerHTML=table;\n",
       "    \n",
       "    return div\n",
       "    }\n",
       "    ,{\n",
       "  &quot;sticky&quot;: true,\n",
       "  &quot;className&quot;: &quot;foliumtooltip&quot;,\n",
       "});\n",
       "                     \n",
       "    \n",
       "            geo_json_e97dd0d49888193b256145905464f4b2.addTo(map_1ee1ebffee73ed415e5ac1d41a664035);\n",
       "        \n",
       "&lt;/script&gt;\n",
       "&lt;/html&gt;\" style=\"position:absolute;width:100%;height:100%;left:0;top:0;border:none !important;\" allowfullscreen webkitallowfullscreen mozallowfullscreen></iframe></div></div>"
      ],
      "text/plain": [
       "<folium.folium.Map at 0x1f7ccba86e0>"
      ]
     },
     "execution_count": 2,
     "metadata": {},
     "output_type": "execute_result"
    }
   ],
   "source": [
    "place = \"North Brookfield, Massachusetts, USA\"\n",
    "tags = {\"plant:method\": \"photovoltaic\"}\n",
    "nbf_solar = ox.features.features_from_place(place, tags)\n",
    "nbf_solar.explore()"
   ]
  },
  {
   "cell_type": "markdown",
   "id": "7e5f1804-f3cc-471a-8343-af0f25aaa898",
   "metadata": {},
   "source": [
    "What about finding the total number of solar sites in North Brookfield's county, Worcester?"
   ]
  },
  {
   "cell_type": "code",
   "execution_count": 3,
   "id": "12121b6f-1f28-4687-8c39-818839a2a938",
   "metadata": {},
   "outputs": [
    {
     "name": "stdout",
     "output_type": "stream",
     "text": [
      "There are 272 solar sites in Worcester County.\n"
     ]
    }
   ],
   "source": [
    "place = \"Worcester County, Massachusetts, United States\"\n",
    "wst_solar = ox.features.features_from_place(place, tags)\n",
    "wst_solar_count = len(wst_solar)\n",
    "print(f\"There are {wst_solar_count} solar sites in Worcester County.\")"
   ]
  },
  {
   "cell_type": "markdown",
   "id": "c3a16462-5d67-4957-bb22-7ad11c9aae52",
   "metadata": {},
   "source": [
    "How many are there in the whole state of Massachusetts?"
   ]
  },
  {
   "cell_type": "code",
   "execution_count": 4,
   "id": "29281a42-0bcc-4926-8ab2-bc30a5fa62d8",
   "metadata": {},
   "outputs": [
    {
     "name": "stdout",
     "output_type": "stream",
     "text": [
      "There are 926 solar sites in Massachusetts.\n"
     ]
    }
   ],
   "source": [
    "#Querying over the whole state can cause an error. The following increases the max query area size:\n",
    "ox.settings.max_query_area_size = 1e12\n",
    "\n",
    "#Now the below query will work.\n",
    "place = \"Massachusetts, United States\"\n",
    "ma_solar = ox.features.features_from_place(place, tags)\n",
    "ma_solar_count = len(ma_solar)\n",
    "print(f\"There are {ma_solar_count} solar sites in Massachusetts.\")"
   ]
  },
  {
   "cell_type": "markdown",
   "id": "aaae8c93-efc1-48bd-a3a5-4721f36054cb",
   "metadata": {},
   "source": [
    "To find the total acreage of sites in MA, the geodataframe needs to be projected to UTM and the area sum is converted from square meters to acres."
   ]
  },
  {
   "cell_type": "code",
   "execution_count": 5,
   "id": "62889efb-7a6b-49c5-ad03-f69ba348e4ed",
   "metadata": {},
   "outputs": [
    {
     "name": "stdout",
     "output_type": "stream",
     "text": [
      "There are 9605 acres of solar sites in MA.\n"
     ]
    }
   ],
   "source": [
    "ma_solar_p = ox.projection.project_gdf(ma_solar)\n",
    "ma_solar_acres = int(ma_solar_p.area.sum()/4046.86)\n",
    "print(f\"There are {ma_solar_acres} acres of solar sites in MA.\" )"
   ]
  },
  {
   "cell_type": "markdown",
   "id": "f5ad0f69-a60d-44d4-a879-e2162ed44ece",
   "metadata": {},
   "source": [
    "# How Many Acreas of Solar Sites Are In Each County?"
   ]
  },
  {
   "cell_type": "markdown",
   "id": "3600e221-7679-428f-babf-75ce0b49ccc8",
   "metadata": {},
   "source": [
    "Looking at the map of solar sites in North Brookfield, some sites are comprised of multiple arrays. These are represented as mutipolygons in the GeoDataFrame, and can span multiple towns and counties. To prevent double counting, I convert the geodataframe into single polygons with `explode()`."
   ]
  },
  {
   "cell_type": "code",
   "execution_count": 6,
   "id": "603e1239-b470-461d-b96c-b4c7fa8e1ba2",
   "metadata": {},
   "outputs": [
    {
     "name": "stdout",
     "output_type": "stream",
     "text": [
      "There are 1209 solar arrays in MA.\n"
     ]
    }
   ],
   "source": [
    "ma_solar_p_explode = ma_solar_p.explode()\n",
    "print(f\"There are {len(ma_solar_p_explode)} solar arrays in MA.\" )"
   ]
  },
  {
   "cell_type": "markdown",
   "id": "7dc829a6-12fa-439d-802a-c26e67690f22",
   "metadata": {},
   "source": [
    "I can then add an area column to each array."
   ]
  },
  {
   "cell_type": "code",
   "execution_count": 7,
   "id": "380e8a14-1c78-4c54-9dba-794d792c1318",
   "metadata": {},
   "outputs": [],
   "source": [
    "ma_solar_p_explode['area'] = ma_solar_p_explode['geometry'].area"
   ]
  },
  {
   "cell_type": "markdown",
   "id": "cda4c5d0-fc3b-4e3c-b333-9eaa0702bc45",
   "metadata": {},
   "source": [
    "Next, I am able to get the county boundaries from OSM as a GeoDataFrame. I project it to UTM so that it is consistent with the solar array GeoDataFrame. "
   ]
  },
  {
   "cell_type": "code",
   "execution_count": 8,
   "id": "7e01cefd-0378-45c9-a160-15585b8865c6",
   "metadata": {},
   "outputs": [
    {
     "data": {
      "image/png": "[encoded data removed]",
      "text/plain": [
       "<Figure size 640x480 with 1 Axes>"
      ]
     },
     "metadata": {},
     "output_type": "display_data"
    }
   ],
   "source": [
    "places = [\n",
    "    \"Barnstable County, Massachusetts, United States\",\n",
    "    \"Berkshire County, Massachusetts, United States\",\n",
    "    \"Bristol County, Massachusetts, United States\",\n",
    "    \"Dukes County, Massachusetts, United States\",\n",
    "    \"Essex County, Massachusetts, United States\",\n",
    "    \"Franklin County, Massachusetts, United States\",\n",
    "    \"Hampden County, Massachusetts, United States\",\n",
    "    \"Hampshire County, Massachusetts, United States\",\n",
    "    \"Middlesex County, Massachusetts, United States\",\n",
    "    \"Nantucket County, Massachusetts, United States\",\n",
    "    \"Norfolk County, Massachusetts, United States\",\n",
    "    \"Plymouth County, Massachusetts, United States\",\n",
    "    \"Suffolk County, Massachusetts, United States\",\n",
    "    \"Worcester County, Massachusetts, United States\"\n",
    "]\n",
    "\n",
    "ma_counties = ox.geocoder.geocode_to_gdf(places)\n",
    "ma_counties_p = ox.projection.project_gdf(ma_counties)\n",
    "ax = ma_counties_p.boundary.plot()"
   ]
  },
  {
   "cell_type": "markdown",
   "id": "a0ad542e-ce3f-48b5-96b3-645363ba5f67",
   "metadata": {},
   "source": [
    "Then I join the two dataframes together."
   ]
  },
  {
   "cell_type": "code",
   "execution_count": 9,
   "id": "e59531c7-d9e9-4015-b536-b9d969d4b353",
   "metadata": {},
   "outputs": [
    {
     "name": "stdout",
     "output_type": "stream",
     "text": [
      "                  barrier  plant:method plant:output:electricity plant:source  \\\n",
      "element  id                                                                     \n",
      "relation 8521594      NaN  photovoltaic                     1 MW        solar   \n",
      "         8521594      NaN  photovoltaic                     1 MW        solar   \n",
      "         8521594      NaN  photovoltaic                     1 MW        solar   \n",
      "         8521594      NaN  photovoltaic                     1 MW        solar   \n",
      "         10306360     NaN  photovoltaic                     1 MW        solar   \n",
      "\n",
      "                   power note owner               name_left ref:US:EIA  \\\n",
      "element  id                                                              \n",
      "relation 8521594   plant  NaN   NaN       Brewster Landfill      59075   \n",
      "         8521594   plant  NaN   NaN       Brewster Landfill      59075   \n",
      "         8521594   plant  NaN   NaN       Brewster Landfill      59075   \n",
      "         8521594   plant  NaN   NaN       Brewster Landfill      59075   \n",
      "         10306360  plant  NaN   NaN  Community Solar Garden      64587   \n",
      "\n",
      "                                  operator  ...   osm_id        lat  \\\n",
      "element  id                                 ...                       \n",
      "relation 8521594    Clean Focus Yield, LLC  ...  2294308  41.701694   \n",
      "         8521594    Clean Focus Yield, LLC  ...  2294308  41.701694   \n",
      "         8521594    Clean Focus Yield, LLC  ...  2294308  41.701694   \n",
      "         8521594    Clean Focus Yield, LLC  ...  2294308  41.701694   \n",
      "         10306360  BWC Buckmaster Pond LLC  ...  1840539  42.153861   \n",
      "\n",
      "                         lon     class      type_right place_rank importance  \\\n",
      "element  id                                                                    \n",
      "relation 8521594  -70.303616  boundary  administrative         12   0.528676   \n",
      "         8521594  -70.303616  boundary  administrative         12   0.528676   \n",
      "         8521594  -70.303616  boundary  administrative         12   0.528676   \n",
      "         8521594  -70.303616  boundary  administrative         12   0.528676   \n",
      "         10306360 -71.182801  boundary  administrative         12   0.538108   \n",
      "\n",
      "                  addresstype         name_right  \\\n",
      "element  id                                        \n",
      "relation 8521594       county  Barnstable County   \n",
      "         8521594       county  Barnstable County   \n",
      "         8521594       county  Barnstable County   \n",
      "         8521594       county  Barnstable County   \n",
      "         10306360      county     Norfolk County   \n",
      "\n",
      "                                                      display_name  \n",
      "element  id                                                         \n",
      "relation 8521594   Barnstable County, Massachusetts, United States  \n",
      "         8521594   Barnstable County, Massachusetts, United States  \n",
      "         8521594   Barnstable County, Massachusetts, United States  \n",
      "         8521594   Barnstable County, Massachusetts, United States  \n",
      "         10306360     Norfolk County, Massachusetts, United States  \n",
      "\n",
      "[5 rows x 55 columns]\n"
     ]
    }
   ],
   "source": [
    "joined = gpd.sjoin(ma_solar_p_explode, ma_counties_p, how='left', predicate='intersects')\n",
    "print(joined.head())"
   ]
  },
  {
   "cell_type": "markdown",
   "id": "1cc2f9ea-a6ed-407a-863a-6dded3937f92",
   "metadata": {},
   "source": [
    "And finally, I group by the county name, aggregate by the sum of the array areas, and convert the sums to a pretty acreage number."
   ]
  },
  {
   "cell_type": "code",
   "execution_count": 10,
   "id": "541c6df3-ccd4-4755-88c3-d5cc890a12a3",
   "metadata": {},
   "outputs": [
    {
     "name": "stdout",
     "output_type": "stream",
     "text": [
      "name_right\n",
      "Barnstable County     315\n",
      "Berkshire County      557\n",
      "Bristol County        989\n",
      "Dukes County           28\n",
      "Essex County          310\n",
      "Franklin County       389\n",
      "Hampden County       1070\n",
      "Hampshire County      443\n",
      "Middlesex County      726\n",
      "Nantucket               6\n",
      "Norfolk County        395\n",
      "Plymouth County      1129\n",
      "Suffolk County         27\n",
      "Worcester County     3239\n",
      "Name: area, dtype: int64\n"
     ]
    }
   ],
   "source": [
    "results = joined.groupby('name_right')['area'].sum()/4046.86\n",
    "print(results.astype(int))"
   ]
  }
 ],
 "metadata": {
  "kernelspec": {
   "display_name": "Python 3 (ipykernel)",
   "language": "python",
   "name": "python3"
  },
  "language_info": {
   "codemirror_mode": {
    "name": "ipython",
    "version": 3
   },
   "file_extension": ".py",
   "mimetype": "text/x-python",
   "name": "python",
   "nbconvert_exporter": "python",
   "pygments_lexer": "ipython3",
   "version": "3.13.1"
  }
 },
 "nbformat": 4,
 "nbformat_minor": 5
}
